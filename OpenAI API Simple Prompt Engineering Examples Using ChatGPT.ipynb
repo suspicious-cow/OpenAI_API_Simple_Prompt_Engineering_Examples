{
 "cells": [
  {
   "cell_type": "markdown",
   "metadata": {},
   "source": [
    "## OpenAI API Simple Prompt Engineering Examples Using ChatGPT\n",
    "\n",
    "Welcome! This notebook is meant to show some simple prompt engineering examples for those just getting started in the field. We will look at four common tasks associated with typical prompt engineering job requirements to get you on the road to becoming an effective developer:\n",
    "\n",
    "- Content Generation\n",
    "- Content Summariziation\n",
    "- Language Translation\n",
    "- Content Automation\n",
    "\n",
    "There are a couple of things to consider as we explore these concepts:\n",
    "First, we are limiting ourselves to exclusively using OpenAI's API even though there might be better alternatives out there to keep things easy to impelement. \n",
    "Second, You will need an OpenAI API key to do these lessons. They are free but CAN COST MONEY if you aren't careful. Just be aware of your usage patterns and you will be fine. You can dign up for your API access here: https://platform.openai.com/ \n",
    "\n",
    "Let's get started!\n"
   ]
  },
  {
   "cell_type": "markdown",
   "metadata": {},
   "source": [
    "### Content Generation\n",
    "Assume we work for a book company and they are looking at expanding into the children book market. They don't want to invest a lot of money in authors before they have tested the waters a bit. That's where we come in; our first task is to write a prompt to create a kids short story. The customer wants us to generate a story and make sure the AI outputs an HTML table with the names of the characters from the story and their role in the story so they can put it up on their website. "
   ]
  },
  {
   "cell_type": "code",
   "execution_count": null,
   "metadata": {},
   "outputs": [],
   "source": []
  }
 ],
 "metadata": {
  "kernelspec": {
   "display_name": "NormalProgramming",
   "language": "python",
   "name": "python3"
  },
  "language_info": {
   "name": "python",
   "version": "3.11.4"
  },
  "orig_nbformat": 4
 },
 "nbformat": 4,
 "nbformat_minor": 2
}
